{
 "cells": [
  {
   "cell_type": "code",
   "execution_count": 1,
   "metadata": {},
   "outputs": [],
   "source": [
    "%load_ext autoreload\n",
    "%autoreload 2"
   ]
  },
  {
   "cell_type": "code",
   "execution_count": 15,
   "metadata": {},
   "outputs": [],
   "source": [
    "from typing import Dict, List\n",
    "\n",
    "import numpy as np\n",
    "import pandas as pd\n",
    "import plotly.plotly as py\n",
    "import plotly.offline as offline\n",
    "import plotly.graph_objs as go\n",
    "import seaborn as sns"
   ]
  },
  {
   "cell_type": "code",
   "execution_count": 3,
   "metadata": {},
   "outputs": [],
   "source": [
    "import modules.database\n",
    "import modules.analyzer\n",
    "import modules.settings as settings"
   ]
  },
  {
   "cell_type": "code",
   "execution_count": 4,
   "metadata": {},
   "outputs": [
    {
     "data": {
      "text/html": [
       "<script>requirejs.config({paths: { 'plotly': ['https://cdn.plot.ly/plotly-latest.min']},});if(!window.Plotly) {{require(['plotly'],function(plotly) {window.Plotly=plotly;});}}</script>"
      ],
      "text/vnd.plotly.v1+html": [
       "<script>requirejs.config({paths: { 'plotly': ['https://cdn.plot.ly/plotly-latest.min']},});if(!window.Plotly) {{require(['plotly'],function(plotly) {window.Plotly=plotly;});}}</script>"
      ]
     },
     "metadata": {},
     "output_type": "display_data"
    }
   ],
   "source": [
    "py.sign_in(settings.PLOTLY_USERNAME, settings.PLOTLY_PASSWORD)\n",
    "offline.init_notebook_mode(connected=True)\n",
    "def generate_experiment_settings(list_count_experiments: List[int]) -> pd.DataFrame:\n",
    "    starting_count = 0\n",
    "    final_dataframe = pd.DataFrame()\n",
    "    for experiment_id, count in enumerate(list_count_experiments):\n",
    "        final_dataframe = final_dataframe.append(modules.analyzer.Analyzer.expand_grid({\n",
    "            'experiment_id': [experiment_id + 1],\n",
    "            'settings_id': list(range(starting_count + 1, starting_count + count + 1))\n",
    "        }))\n",
    "        starting_count += count\n",
    "    return final_dataframe"
   ]
  },
  {
   "cell_type": "code",
   "execution_count": 5,
   "metadata": {},
   "outputs": [],
   "source": [
    "settings = modules.database.execute_query('select * from settings;')\n",
    "responses = modules.database.execute_query('select * from response;')\n",
    "dataframe_experiments = generate_experiment_settings([10, 3, 108, 3, 2, 10, 10, 200, 100, 2])"
   ]
  },
  {
   "cell_type": "code",
   "execution_count": 6,
   "metadata": {},
   "outputs": [],
   "source": [
    "experiment_response: Dict[int, pd.DataFrame] = {}\n",
    "for experiment_id in set(dataframe_experiments['experiment_id']):\n",
    "    settings_ids = dataframe_experiments[dataframe_experiments['experiment_id'] == experiment_id]['settings_id'].values.tolist()\n",
    "    experiment_responses = responses[responses['settings_id'].isin(settings_ids)].groupby('settings_id').mean().reset_index()\n",
    "    experiment_response[experiment_id] = experiment_responses.merge(settings, left_on = 'settings_id', right_on = 'id')"
   ]
  },
  {
   "cell_type": "code",
   "execution_count": 7,
   "metadata": {},
   "outputs": [],
   "source": [
    "def Barplot(dataframe: pd.DataFrame, x_axis: str, y_axis: str, x_name: str, y_name: str, file_name: str) -> None:\n",
    "    min_value, max_value = min(dataframe[y_axis]), max(dataframe[y_axis])\n",
    "    data = go.Bar(\n",
    "            y = dataframe[y_axis],\n",
    "            x = dataframe[x_axis],\n",
    "    )\n",
    "    fig = go.Figure(\n",
    "        data = [data],\n",
    "        layout = go.Layout(\n",
    "            width = 600,\n",
    "            height = 600,\n",
    "            xaxis = dict(\n",
    "                title = x_name,\n",
    "                type = 'category'\n",
    "            ),\n",
    "            yaxis = dict(\n",
    "                title = y_name,\n",
    "                range = [min_value * 0.9, max_value* 1.1]\n",
    "            ),\n",
    "        )\n",
    "    )\n",
    "    py.image.save_as(fig, filename = file_name)"
   ]
  },
  {
   "cell_type": "code",
   "execution_count": null,
   "metadata": {},
   "outputs": [],
   "source": []
  },
  {
   "cell_type": "code",
   "execution_count": 15,
   "metadata": {},
   "outputs": [],
   "source": [
    "Barplot(\n",
    "    dataframe = experiment_response[1],\n",
    "    x_axis = 'zero_intelligence_shading_max',\n",
    "    y_axis = 'zero_intelligence_surplus',\n",
    "    x_name = 'ZI Traders Max Shading',\n",
    "    y_name = 'ZI Traders Surplus',\n",
    "    file_name = 'zero_intelligence_shading_to_surplus.png'\n",
    ")"
   ]
  },
  {
   "cell_type": "code",
   "execution_count": 16,
   "metadata": {},
   "outputs": [],
   "source": [
    "Barplot(\n",
    "    dataframe = experiment_response[1],\n",
    "    x_axis = 'zero_intelligence_shading_max',\n",
    "    y_axis = 'bid_ask_spread_mean',\n",
    "    x_name = 'ZI Traders Max Shading',\n",
    "    y_name = 'Bid/Ask Spread',\n",
    "    file_name = 'zero_intelligence_shading_to_bidask_spread.png'\n",
    ")"
   ]
  },
  {
   "cell_type": "code",
   "execution_count": 17,
   "metadata": {},
   "outputs": [],
   "source": [
    "Barplot(\n",
    "    dataframe = experiment_response[1],\n",
    "    x_axis = 'zero_intelligence_shading_max',\n",
    "    y_axis = 'number_trades',\n",
    "    x_name = 'ZI Traders Max Shading',\n",
    "    y_name = 'Number of Trades',\n",
    "    file_name = 'zero_intelligence_shading_to_number_trades.png'\n",
    ")"
   ]
  },
  {
   "cell_type": "code",
   "execution_count": 18,
   "metadata": {},
   "outputs": [],
   "source": [
    "Barplot(\n",
    "    dataframe = experiment_response[1],\n",
    "    x_axis = 'zero_intelligence_shading_max',\n",
    "    y_axis = 'price_volatility',\n",
    "    x_name = 'ZI Traders Max Shading',\n",
    "    y_name = 'Price volatility',\n",
    "    file_name = 'zero_intelligence_shading_to_volatility.png'\n",
    ")"
   ]
  },
  {
   "cell_type": "code",
   "execution_count": 8,
   "metadata": {},
   "outputs": [],
   "source": [
    "############### 2 #################\n",
    "Barplot(\n",
    "    dataframe = experiment_response[2],\n",
    "    x_axis = 'market_maker_count',\n",
    "    y_axis = 'zero_intelligence_surplus',\n",
    "    x_name = 'Market Makers Count',\n",
    "    y_name = 'ZI Traders Surplus',\n",
    "    file_name = 'market_maker_count_to_zero_intelligence_surplus.png'\n",
    ")"
   ]
  },
  {
   "cell_type": "code",
   "execution_count": 9,
   "metadata": {},
   "outputs": [],
   "source": [
    "Barplot(\n",
    "    dataframe = experiment_response[2],\n",
    "    x_axis = 'market_maker_count',\n",
    "    y_axis = 'marketmaker_surplus',\n",
    "    x_name = 'Market Makers Count',\n",
    "    y_name = 'Market Makers Surplus',\n",
    "    file_name = 'market_maker_count_to_marketmaker_surplus.png'\n",
    ")"
   ]
  },
  {
   "cell_type": "code",
   "execution_count": 11,
   "metadata": {},
   "outputs": [],
   "source": [
    "Barplot(\n",
    "    dataframe = experiment_response[2],\n",
    "    x_axis = 'market_maker_count',\n",
    "    y_axis = 'number_trades',\n",
    "    x_name = 'Market Makers Count',\n",
    "    y_name = 'Number of Trades',\n",
    "    file_name = 'market_maker_count_to_number_trades.png'\n",
    ")"
   ]
  },
  {
   "cell_type": "code",
   "execution_count": 12,
   "metadata": {},
   "outputs": [],
   "source": [
    "Barplot(\n",
    "    dataframe = experiment_response[2],\n",
    "    x_axis = 'market_maker_count',\n",
    "    y_axis = 'bid_ask_spread_mean',\n",
    "    x_name = 'Market Makers Count',\n",
    "    y_name = 'Bid/Ask spread',\n",
    "    file_name = 'market_maker_count_to_bidask_spread.png'\n",
    ")"
   ]
  },
  {
   "cell_type": "code",
   "execution_count": 33,
   "metadata": {},
   "outputs": [],
   "source": [
    "########################## 4 ##########################\n",
    "Barplot(\n",
    "    dataframe = experiment_response[4],\n",
    "    x_axis = 'session_length',\n",
    "    y_axis = 'zero_intelligence_surplus',\n",
    "    x_name = 'Session Length',\n",
    "    y_name = 'ZI Traders Surplus',\n",
    "    file_name = 'session_length_to_zero_intelligence_surplus.png'\n",
    ")"
   ]
  },
  {
   "cell_type": "code",
   "execution_count": 34,
   "metadata": {},
   "outputs": [],
   "source": [
    "Barplot(\n",
    "    dataframe = experiment_response[4],\n",
    "    x_axis = 'session_length',\n",
    "    y_axis = 'marketmaker_surplus',\n",
    "    x_name = 'Session Length',\n",
    "    y_name = 'Market Makers Surplus',\n",
    "    file_name = 'session_length_to_marketmaker_surplus.png'\n",
    ")"
   ]
  },
  {
   "cell_type": "code",
   "execution_count": 35,
   "metadata": {},
   "outputs": [],
   "source": [
    "Barplot(\n",
    "    dataframe = experiment_response[4],\n",
    "    x_axis = 'session_length',\n",
    "    y_axis = 'number_trades',\n",
    "    x_name = 'Session Length',\n",
    "    y_name = 'Number of Trades',\n",
    "    file_name = 'session_length_to_number_trades.png'\n",
    ")"
   ]
  },
  {
   "cell_type": "code",
   "execution_count": 36,
   "metadata": {},
   "outputs": [],
   "source": [
    "Barplot(\n",
    "    dataframe = experiment_response[4],\n",
    "    x_axis = 'session_length',\n",
    "    y_axis = 'bid_ask_spread_mean',\n",
    "    x_name = 'Session Length',\n",
    "    y_name = 'Bid/Ask Spread',\n",
    "    file_name = 'session_length_to_bidask_spread.png'\n",
    ")"
   ]
  },
  {
   "cell_type": "code",
   "execution_count": 39,
   "metadata": {},
   "outputs": [],
   "source": [
    "####################### arbitrageur_presence_no_arbitrage #######################\n",
    "Barplot(\n",
    "    dataframe = experiment_response[5],\n",
    "    x_axis = 'include_arbitrageur',\n",
    "    y_axis = 'zero_intelligence_surplus',\n",
    "    x_name = 'Arbitrageur is Included',\n",
    "    y_name = 'ZI Traders Surplus',\n",
    "    file_name = 'include_arbitrageur_to_zero_intelligence_surplus.png'\n",
    ")\n",
    "Barplot(\n",
    "    dataframe = experiment_response[5],\n",
    "    x_axis = 'include_arbitrageur',\n",
    "    y_axis = 'arbitrageur_profit',\n",
    "    x_name = 'Arbitrageur is Included',\n",
    "    y_name = 'Arbitrageur Profit',\n",
    "    file_name = 'arbitrageur_profit_to_zero_intelligence_surplus.png'\n",
    ")"
   ]
  },
  {
   "cell_type": "code",
   "execution_count": 44,
   "metadata": {},
   "outputs": [],
   "source": [
    "####################### lagged_nbbo_without_arbitrageur #######################\n",
    "Barplot(\n",
    "    dataframe = experiment_response[6],\n",
    "    x_axis = 'national_best_bid_and_offer_delay',\n",
    "    y_axis = 'zero_intelligence_surplus',\n",
    "    x_name = 'NBBO Delay',\n",
    "    y_name = 'ZI Traders Surplus',\n",
    "    file_name = 'nbbo_delay_to_zero_intelligence_surplus.png'\n",
    ")\n",
    "Barplot(\n",
    "    dataframe = experiment_response[6],\n",
    "    x_axis = 'national_best_bid_and_offer_delay',\n",
    "    y_axis = 'marketmaker_surplus',\n",
    "    x_name = 'NBBO Delay',\n",
    "    y_name = 'Market Maker Surplus',\n",
    "    file_name = 'nbbo_delay_to_marketmaker_surplus.png'\n",
    ")\n",
    "Barplot(\n",
    "    dataframe = experiment_response[6],\n",
    "    x_axis = 'national_best_bid_and_offer_delay',\n",
    "    y_axis = 'number_trades',\n",
    "    x_name = 'NBBO Delay',\n",
    "    y_name = 'Number of Trades',\n",
    "    file_name = 'nbbo_delay_to_number_trades.png'\n",
    ")\n",
    "Barplot(\n",
    "    dataframe = experiment_response[6],\n",
    "    x_axis = 'national_best_bid_and_offer_delay',\n",
    "    y_axis = 'mean_execution_time',\n",
    "    x_name = 'NBBO Delay',\n",
    "    y_name = 'Mean Execution Time',\n",
    "    file_name = 'nbbo_delay_to_mean_execution_time.png'\n",
    ")"
   ]
  },
  {
   "cell_type": "code",
   "execution_count": 45,
   "metadata": {},
   "outputs": [],
   "source": [
    "####################### batch_auction_without_lag #######################\n",
    "Barplot(\n",
    "    dataframe = experiment_response[7],\n",
    "    x_axis = 'batch_auction_length',\n",
    "    y_axis = 'zero_intelligence_surplus',\n",
    "    x_name = 'Batch auction length',\n",
    "    y_name = 'ZI Traders Surplus',\n",
    "    file_name = 'batch_auction_length_to_zero_intelligence_surplus.png'\n",
    ")\n",
    "Barplot(\n",
    "    dataframe = experiment_response[7],\n",
    "    x_axis = 'batch_auction_length',\n",
    "    y_axis = 'marketmaker_surplus',\n",
    "    x_name = 'Batch auction length',\n",
    "    y_name = 'Market Maker Surplus',\n",
    "    file_name = 'batch_auction_length_to_marketmaker_surplus.png'\n",
    ")\n",
    "Barplot(\n",
    "    dataframe = experiment_response[7],\n",
    "    x_axis = 'batch_auction_length',\n",
    "    y_axis = 'number_trades',\n",
    "    x_name = 'Batch auction length',\n",
    "    y_name = 'Number of Trades',\n",
    "    file_name = 'batch_auction_length_to_number_trades.png'\n",
    ")\n",
    "Barplot(\n",
    "    dataframe = experiment_response[7],\n",
    "    x_axis = 'batch_auction_length',\n",
    "    y_axis = 'mean_execution_time',\n",
    "    x_name = 'Batch auction length',\n",
    "    y_name = 'Mean Execution Time',\n",
    "    file_name = 'batch_auction_length_to_mean_execution_time.png'\n",
    ")"
   ]
  },
  {
   "cell_type": "code",
   "execution_count": 65,
   "metadata": {
    "scrolled": true
   },
   "outputs": [
    {
     "name": "stdout",
     "output_type": "stream",
     "text": [
      "national_best_bid_and_offer_delay           0             100           200  \\\n",
      "batch_auction_length                                                          \n",
      "0                                  1.721216e+06  1.370341e+06  1.357281e+06   \n",
      "100                                8.829759e+05  7.756233e+05  7.120039e+05   \n",
      "200                                3.304327e+05  3.387198e+05  2.627406e+05   \n",
      "300                                7.995271e+04  8.701385e+04  3.006965e+04   \n",
      "400                               -8.433475e+03 -3.006098e+04 -3.541631e+04   \n",
      "500                               -3.672874e+04 -7.733972e+04 -8.334017e+04   \n",
      "600                               -4.474855e+04 -9.955902e+04 -8.748977e+04   \n",
      "700                               -4.356488e+04 -1.086461e+05 -1.124583e+05   \n",
      "800                               -3.569671e+04 -1.078861e+05 -1.069771e+05   \n",
      "900                               -3.793870e+04 -1.076362e+05 -1.018069e+05   \n",
      "\n",
      "national_best_bid_and_offer_delay           300           400           500  \\\n",
      "batch_auction_length                                                          \n",
      "0                                  1.359230e+06  1.361818e+06  1.368411e+06   \n",
      "100                                7.142664e+05  6.450384e+05  7.799898e+05   \n",
      "200                                2.736924e+05  2.208003e+05  2.889056e+05   \n",
      "300                                3.997411e+04  5.792104e+04  2.509979e+04   \n",
      "400                               -3.766128e+04 -3.630387e+04 -4.324220e+04   \n",
      "500                               -7.521780e+04 -5.709082e+04 -5.636893e+04   \n",
      "600                               -8.290020e+04 -7.481585e+04 -6.798995e+04   \n",
      "700                               -9.682692e+04 -8.880999e+04 -7.684475e+04   \n",
      "800                               -1.031465e+05 -9.691144e+04 -9.632021e+04   \n",
      "900                               -1.062837e+05 -9.761707e+04 -9.342481e+04   \n",
      "\n",
      "national_best_bid_and_offer_delay          600           700           800  \\\n",
      "batch_auction_length                                                         \n",
      "0                                  1367468.750  1.375355e+06  1.383636e+06   \n",
      "100                                 587367.550  7.664058e+05  6.826500e+05   \n",
      "200                                 287248.550  2.782187e+05  2.488036e+05   \n",
      "300                                  20708.738  7.497630e+04  4.938857e+04   \n",
      "400                                 -50286.670 -4.063634e+04 -4.546796e+04   \n",
      "500                                 -99565.965 -7.084830e+04 -7.102579e+04   \n",
      "600                                 -58469.480 -1.018558e+05 -8.563763e+04   \n",
      "700                                 -74138.198 -6.617449e+04 -1.036812e+05   \n",
      "800                                 -75123.455 -6.997752e+04 -6.371969e+04   \n",
      "900                                 -77961.760 -7.359582e+04 -6.357388e+04   \n",
      "\n",
      "national_best_bid_and_offer_delay           900  \n",
      "batch_auction_length                             \n",
      "0                                  1.392084e+06  \n",
      "100                                7.688811e+05  \n",
      "200                                3.410918e+05  \n",
      "300                                6.492929e+04  \n",
      "400                               -2.942059e+04  \n",
      "500                               -7.174081e+04  \n",
      "600                               -8.879951e+04  \n",
      "700                               -1.054865e+05  \n",
      "800                               -9.916488e+04  \n",
      "900                               -7.381450e+04  \n"
     ]
    },
    {
     "data": {
      "text/plain": [
       "<matplotlib.axes._subplots.AxesSubplot at 0xb9564f0>"
      ]
     },
     "execution_count": 65,
     "metadata": {},
     "output_type": "execute_result"
    },
    {
     "data": {
      "image/png": "[encoded data removed]",
      "text/plain": [
       "<matplotlib.figure.Figure at 0xbca5990>"
      ]
     },
     "metadata": {},
     "output_type": "display_data"
    }
   ],
   "source": [
    "####################### batch_auction_with_lag #######################\n",
    "data = experiment_response[8]\n",
    "data = data[data.include_arbitrageur]\n",
    "\n",
    "pivot_table = pd.pivot_table(\n",
    "    data,\n",
    "    values = 'zero_intelligence_surplus',\n",
    "    index = 'batch_auction_length',\n",
    "    columns  = 'national_best_bid_and_offer_delay'\n",
    ")\n",
    "print(pivot_table)\n",
    "sns.heatmap(pivot_table)"
   ]
  },
  {
   "cell_type": "code",
   "execution_count": 66,
   "metadata": {},
   "outputs": [
    {
     "name": "stdout",
     "output_type": "stream",
     "text": [
      "national_best_bid_and_offer_delay           0             100           200  \\\n",
      "batch_auction_length                                                          \n",
      "0                                  1.732583e+06  1.562375e+06  1.425584e+06   \n",
      "100                                8.824900e+05  8.286533e+05  7.666579e+05   \n",
      "200                                3.409010e+05  3.554787e+05  2.874050e+05   \n",
      "300                                9.213017e+04  9.763563e+04  5.453033e+04   \n",
      "400                               -1.136260e+04 -2.991064e+04 -2.741116e+04   \n",
      "500                               -4.293928e+04 -7.582616e+04 -7.066186e+04   \n",
      "600                               -4.103550e+04 -1.083180e+05 -7.643703e+04   \n",
      "700                               -4.092608e+04 -1.090943e+05 -1.067227e+05   \n",
      "800                               -4.644746e+04 -1.026752e+05 -1.105788e+05   \n",
      "900                               -3.557163e+04 -9.426668e+04 -1.048092e+05   \n",
      "\n",
      "national_best_bid_and_offer_delay           300           400           500  \\\n",
      "batch_auction_length                                                          \n",
      "0                                  1.313219e+06  1.227430e+06  1.150342e+06   \n",
      "100                                7.695546e+05  6.607554e+05  7.315617e+05   \n",
      "200                                2.941244e+05  2.432394e+05  3.155294e+05   \n",
      "300                                5.739696e+04  6.654300e+04  5.095888e+04   \n",
      "400                               -2.107131e+04 -1.609837e+04 -2.390661e+04   \n",
      "500                               -6.788731e+04 -5.105745e+04 -3.858534e+04   \n",
      "600                               -6.873349e+04 -6.175039e+04 -5.679146e+04   \n",
      "700                               -9.278899e+04 -7.734841e+04 -6.934117e+04   \n",
      "800                               -9.549284e+04 -8.886993e+04 -7.973880e+04   \n",
      "900                               -1.068527e+05 -1.007978e+05 -8.168204e+04   \n",
      "\n",
      "national_best_bid_and_offer_delay           600           700           800  \\\n",
      "batch_auction_length                                                          \n",
      "0                                  1.107775e+06  1.089810e+06  1.058656e+06   \n",
      "100                                6.381719e+05  7.768259e+05  6.507319e+05   \n",
      "200                                2.990000e+05  2.871791e+05  2.611349e+05   \n",
      "300                                5.065873e+04  8.457664e+04  7.223038e+04   \n",
      "400                               -3.737869e+04 -1.040463e+04 -2.550650e+04   \n",
      "500                               -8.614486e+04 -5.743372e+04 -5.804883e+04   \n",
      "600                               -4.681757e+04 -8.481648e+04 -9.353827e+04   \n",
      "700                               -6.374721e+04 -5.432717e+04 -1.056747e+05   \n",
      "800                               -6.802214e+04 -5.991794e+04 -5.205392e+04   \n",
      "900                               -7.556582e+04 -7.665023e+04 -6.131192e+04   \n",
      "\n",
      "national_best_bid_and_offer_delay           900  \n",
      "batch_auction_length                             \n",
      "0                                  1.115823e+06  \n",
      "100                                7.964219e+05  \n",
      "200                                3.405425e+05  \n",
      "300                                6.331975e+04  \n",
      "400                               -2.116752e+04  \n",
      "500                               -4.633237e+04  \n",
      "600                               -8.201093e+04  \n",
      "700                               -9.629906e+04  \n",
      "800                               -9.941932e+04  \n",
      "900                               -5.200161e+04  \n"
     ]
    },
    {
     "data": {
      "text/plain": [
       "<matplotlib.axes._subplots.AxesSubplot at 0xacfaaf0>"
      ]
     },
     "execution_count": 66,
     "metadata": {},
     "output_type": "execute_result"
    },
    {
     "data": {
      "image/png": "[encoded data removed]",
      "text/plain": [
       "<matplotlib.figure.Figure at 0xbc6b150>"
      ]
     },
     "metadata": {},
     "output_type": "display_data"
    }
   ],
   "source": [
    "data = experiment_response[8]\n",
    "data = data[~data.include_arbitrageur]\n",
    "\n",
    "pivot_table = pd.pivot_table(\n",
    "    data,\n",
    "    values = 'zero_intelligence_surplus',\n",
    "    index = 'batch_auction_length',\n",
    "    columns  = 'national_best_bid_and_offer_delay'\n",
    ")\n",
    "print(pivot_table)\n",
    "sns.heatmap(pivot_table)"
   ]
  },
  {
   "cell_type": "code",
   "execution_count": null,
   "metadata": {},
   "outputs": [],
   "source": []
  }
 ],
 "metadata": {
  "kernelspec": {
   "display_name": "Python 3",
   "language": "python",
   "name": "python3"
  },
  "language_info": {
   "codemirror_mode": {
    "name": "ipython",
    "version": 3
   },
   "file_extension": ".py",
   "mimetype": "text/x-python",
   "name": "python",
   "nbconvert_exporter": "python",
   "pygments_lexer": "ipython3",
   "version": "3.6.4"
  }
 },
 "nbformat": 4,
 "nbformat_minor": 2
}
